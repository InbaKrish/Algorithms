{
 "cells": [
  {
   "cell_type": "code",
   "execution_count": 1,
   "metadata": {},
   "outputs": [],
   "source": [
    "directions = {'up':(-1,0),'down':(1,0),'right':(0,1),'left':(0,-1)}"
   ]
  },
  {
   "cell_type": "code",
   "execution_count": 2,
   "metadata": {},
   "outputs": [],
   "source": [
    "def check_pos(maze,pos):\n",
    "    i,j = pos\n",
    "    maze_height = len(maze)\n",
    "    maze_width = len(maze[0])\n",
    "    return 0<=i<maze_height and 0<=j<maze_width and maze[i][j]!='*'"
   ]
  },
  {
   "cell_type": "code",
   "execution_count": 3,
   "metadata": {},
   "outputs": [],
   "source": [
    "def read_maze(path):\n",
    "    maze = []\n",
    "    try:\n",
    "        with open(path) as maze_txt:\n",
    "            for line in maze_txt:\n",
    "                maze.append([char for char in line.strip('\\n')])\n",
    "            for row in maze:\n",
    "                if len(row)!= len(maze[0]):\n",
    "                    print('The maze is non rectangular')\n",
    "                    raise SystemExit\n",
    "            return maze\n",
    "    except IOError:\n",
    "        print(f'Error reading {path} file')\n",
    "        raise SystemExit\n",
    "                "
   ]
  },
  {
   "cell_type": "code",
   "execution_count": 4,
   "metadata": {},
   "outputs": [],
   "source": [
    "def get_final_path(predecessors,start,goal):\n",
    "    current = goal\n",
    "    path = []\n",
    "    while current != start:\n",
    "        path.append(current)\n",
    "        current = predecessors[current]\n",
    "    path.append(start)\n",
    "    path.reverse()\n",
    "    return path"
   ]
  },
  {
   "cell_type": "code",
   "execution_count": 5,
   "metadata": {},
   "outputs": [
    {
     "name": "stdout",
     "output_type": "stream",
     "text": [
      "Requirement already satisfied: import_ipynb in c:\\programdata\\anaconda3\\lib\\site-packages (0.1.3)\n"
     ]
    }
   ],
   "source": [
    "!pip install import_ipynb"
   ]
  },
  {
   "cell_type": "code",
   "execution_count": 6,
   "metadata": {},
   "outputs": [
    {
     "name": "stdout",
     "output_type": "stream",
     "text": [
      "importing Jupyter notebook from stack.ipynb\n",
      "[3, 4, 5]\n",
      "['n', 'a', 'r', 'a', 'g', 'a', 's', ' ', 'a', 'b', 'n', 'I', ' ', 'm', \"'\", 'I']\n",
      "I'm Inba sagaran\n",
      "I'm Inba sagaran\n"
     ]
    }
   ],
   "source": [
    "import import_ipynb\n",
    "from time import sleep\n",
    "from stack import Stack"
   ]
  },
  {
   "cell_type": "code",
   "execution_count": 7,
   "metadata": {},
   "outputs": [],
   "source": [
    "def DFS(maze,start,goal):\n",
    "    stack = Stack()\n",
    "    stack.push(start)\n",
    "    predecessors = {start:None}\n",
    "    \n",
    "    while not stack.is_empty():\n",
    "        current = stack.pop()\n",
    "        print('current:',current,'\\n')\n",
    "        if current == goal:\n",
    "            return get_final_path(predecessors,start,goal)\n",
    "        else:\n",
    "            for direction in ['up','down','right','left']:\n",
    "                i_set , j_set = directions[direction]\n",
    "                neighbor = (current[0]+i_set,current[1]+j_set)\n",
    "                if check_pos(maze,neighbor) and neighbor not in predecessors:\n",
    "                    stack.push(neighbor)\n",
    "                    print('stack:',stack,'\\n')\n",
    "                    predecessors[neighbor] = current\n",
    "                    print('predecessors:',predecessors,'\\n')\n",
    "                    print('-------------------------------------------------------------------------------\\n\\n')\n",
    "                    sleep(1)\n",
    "        sleep(1)\n",
    "    return None"
   ]
  },
  {
   "cell_type": "code",
   "execution_count": 10,
   "metadata": {},
   "outputs": [
    {
     "name": "stdout",
     "output_type": "stream",
     "text": [
      "[' ', ' ', ' ']\n",
      "['*', ' ', '*']\n",
      "[' ', ' ', ' ']\n",
      "current: (0, 0) \n",
      "\n",
      "stack: [(0, 1)] \n",
      "\n",
      "predecessors: {(0, 0): None, (0, 1): (0, 0)} \n",
      "\n",
      "-------------------------------------------------------------------------------\n",
      "\n",
      "\n",
      "current: (0, 1) \n",
      "\n",
      "stack: [(1, 1)] \n",
      "\n",
      "predecessors: {(0, 0): None, (0, 1): (0, 0), (1, 1): (0, 1)} \n",
      "\n",
      "-------------------------------------------------------------------------------\n",
      "\n",
      "\n",
      "stack: [(1, 1), (0, 2)] \n",
      "\n",
      "predecessors: {(0, 0): None, (0, 1): (0, 0), (1, 1): (0, 1), (0, 2): (0, 1)} \n",
      "\n",
      "-------------------------------------------------------------------------------\n",
      "\n",
      "\n",
      "current: (0, 2) \n",
      "\n",
      "current: (1, 1) \n",
      "\n",
      "stack: [(2, 1)] \n",
      "\n",
      "predecessors: {(0, 0): None, (0, 1): (0, 0), (1, 1): (0, 1), (0, 2): (0, 1), (2, 1): (1, 1)} \n",
      "\n",
      "-------------------------------------------------------------------------------\n",
      "\n",
      "\n",
      "current: (2, 1) \n",
      "\n",
      "stack: [(2, 2)] \n",
      "\n",
      "predecessors: {(0, 0): None, (0, 1): (0, 0), (1, 1): (0, 1), (0, 2): (0, 1), (2, 1): (1, 1), (2, 2): (2, 1)} \n",
      "\n",
      "-------------------------------------------------------------------------------\n",
      "\n",
      "\n",
      "stack: [(2, 2), (2, 0)] \n",
      "\n",
      "predecessors: {(0, 0): None, (0, 1): (0, 0), (1, 1): (0, 1), (0, 2): (0, 1), (2, 1): (1, 1), (2, 2): (2, 1), (2, 0): (2, 1)} \n",
      "\n",
      "-------------------------------------------------------------------------------\n",
      "\n",
      "\n",
      "current: (2, 0) \n",
      "\n",
      "current: (2, 2) \n",
      "\n",
      "[(0, 0), (0, 1), (1, 1), (2, 1), (2, 2)]\n"
     ]
    }
   ],
   "source": [
    "maze = read_maze(\"mazes/mini_maze_dfs.txt\")\n",
    "for row in maze:\n",
    "    print(row)\n",
    "start_pos = (0, 0)\n",
    "goal_pos = (2, 2)\n",
    "result = DFS(maze, start_pos, goal_pos) #[(0, 0), (0, 1), (1, 1), (2, 1), (2, 2)]\n",
    "print(result)"
   ]
  },
  {
   "cell_type": "code",
   "execution_count": null,
   "metadata": {},
   "outputs": [],
   "source": []
  }
 ],
 "metadata": {
  "kernelspec": {
   "display_name": "Python 3",
   "language": "python",
   "name": "python3"
  },
  "language_info": {
   "codemirror_mode": {
    "name": "ipython",
    "version": 3
   },
   "file_extension": ".py",
   "mimetype": "text/x-python",
   "name": "python",
   "nbconvert_exporter": "python",
   "pygments_lexer": "ipython3",
   "version": "3.7.6"
  }
 },
 "nbformat": 4,
 "nbformat_minor": 4
}
