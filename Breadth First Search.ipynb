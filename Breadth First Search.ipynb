{
 "cells": [
  {
   "cell_type": "code",
   "execution_count": 1,
   "metadata": {},
   "outputs": [],
   "source": [
    "import import_ipynb"
   ]
  },
  {
   "cell_type": "code",
   "execution_count": 3,
   "metadata": {},
   "outputs": [
    {
     "name": "stdout",
     "output_type": "stream",
     "text": [
      "importing Jupyter notebook from Queue using deque.ipynb\n"
     ]
    }
   ],
   "source": [
    "from Queue_using_deque import Queue"
   ]
  },
  {
   "cell_type": "code",
   "execution_count": 5,
   "metadata": {},
   "outputs": [],
   "source": [
    "directions = {\"up\":(-1,0),\"right\":(0,1),\"down\":(1,0),\"left\":(0,-1)}"
   ]
  },
  {
   "cell_type": "code",
   "execution_count": 27,
   "metadata": {},
   "outputs": [],
   "source": [
    "def read_maze(path):\n",
    "    try:\n",
    "        with open(path) as maze_file:\n",
    "            maze = []\n",
    "            for line in maze_file:\n",
    "                maze.append([char for char in line.strip(\"\\n\")])\n",
    "            for row in maze:\n",
    "                if len(row)!= len(maze[0]):\n",
    "                    print('The maize is non rectangular...')\n",
    "                    raise SystemExit\n",
    "            return maze\n",
    "    except IOError:\n",
    "        return f\"Error reading {path} file\""
   ]
  },
  {
   "cell_type": "code",
   "execution_count": 28,
   "metadata": {},
   "outputs": [],
   "source": [
    "def check_pos(maze,pos):\n",
    "    i,j = pos\n",
    "    return 0<=i<len(maze) and 0<=j<len(maze[0]) and maze[i][j] != '*'"
   ]
  },
  {
   "cell_type": "code",
   "execution_count": 29,
   "metadata": {},
   "outputs": [],
   "source": [
    "def get_path(predecessor,start,goal):\n",
    "    current = goal\n",
    "    path = []\n",
    "    while current != start:\n",
    "        path.append(current)\n",
    "        current = predecessor[current]\n",
    "    path.append(start)\n",
    "    path.reverse()\n",
    "    return path"
   ]
  },
  {
   "cell_type": "code",
   "execution_count": 30,
   "metadata": {},
   "outputs": [],
   "source": [
    "def BFS(maze,start,goal):\n",
    "    queue = Queue()\n",
    "    queue.enqueue(start)\n",
    "    predecessor = {start:None}\n",
    "    \n",
    "    while not queue.is_empty():\n",
    "        current = queue.dequeue()\n",
    "        if current == goal:\n",
    "            return get_path(predecessor,start,goal)\n",
    "        else:\n",
    "            for direction in ['up','right','down','left']:\n",
    "                row_offset , col_offset = directions[direction]\n",
    "                neighbour = (current[0]+row_offset,current[1]+col_offset)\n",
    "                if check_pos(maze,neighbour) and neighbour not in predecessor:\n",
    "                    queue.enqueue(neighbour)\n",
    "                    predecessor[neighbour] = current\n",
    "    return None"
   ]
  },
  {
   "cell_type": "code",
   "execution_count": 34,
   "metadata": {},
   "outputs": [
    {
     "name": "stdout",
     "output_type": "stream",
     "text": [
      "[' ', '*', ' ']\n",
      "[' ', ' ', ' ']\n",
      "[' ', ' ', ' ']\n"
     ]
    }
   ],
   "source": [
    "maze = read_maze(\"mazes/mini_maze_bfs.txt\")\n",
    "for row in maze:\n",
    "    print(row)\n",
    "start_pos = (0, 0)\n",
    "goal_pos = (2, 2)\n",
    "result = BFS(maze, start_pos, goal_pos)\n",
    "assert result == [(0, 0), (1, 0), (1, 1), (1, 2), (2, 2)]"
   ]
  },
  {
   "cell_type": "code",
   "execution_count": null,
   "metadata": {},
   "outputs": [],
   "source": []
  }
 ],
 "metadata": {
  "kernelspec": {
   "display_name": "Python 3",
   "language": "python",
   "name": "python3"
  },
  "language_info": {
   "codemirror_mode": {
    "name": "ipython",
    "version": 3
   },
   "file_extension": ".py",
   "mimetype": "text/x-python",
   "name": "python",
   "nbconvert_exporter": "python",
   "pygments_lexer": "ipython3",
   "version": "3.7.6"
  }
 },
 "nbformat": 4,
 "nbformat_minor": 4
}
