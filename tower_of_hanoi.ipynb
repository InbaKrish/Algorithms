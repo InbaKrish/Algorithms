{
 "cells": [
  {
   "cell_type": "code",
   "execution_count": 2,
   "metadata": {},
   "outputs": [
    {
     "name": "stdout",
     "output_type": "stream",
     "text": [
      "Move disk 1  from rod  A  to rod  C\n",
      "Move disk 2  from rod  A  to rod  B\n",
      "Move disk 1  from rod  C  to rod  B\n",
      "Move disk 3  from rod  A  to rod  C\n",
      "Move disk 1  from rod  B  to rod  A\n",
      "Move disk 2  from rod  B  to rod  C\n",
      "Move disk 1  from rod  A  to rod  C\n"
     ]
    }
   ],
   "source": [
    "def move_ring(n,source,spare,target):\n",
    "    if n!=0:\n",
    "        move_ring(n-1,source,target,spare)\n",
    "        print(\"Move disk\",n,\" from rod \",source,\" to rod \",target)\n",
    "        move_ring(n-1,spare,source,target)\n",
    "    elif n ==1:\n",
    "        print(\"Move disk 1 from \",source,\" to rod \",target)\n",
    "n = 3\n",
    "move_ring(n,'A','B','C')"
   ]
  },
  {
   "cell_type": "code",
   "execution_count": 21,
   "metadata": {},
   "outputs": [
    {
     "name": "stdout",
     "output_type": "stream",
     "text": [
      "\n",
      " FINAL TARGET LIST: []\n",
      "\n",
      " FINAL TARGET LIST: [3]\n",
      "\n",
      " FINAL TARGET LIST: [3]\n",
      "\n",
      " FINAL TARGET LIST: [1]\n",
      "\n",
      " FINAL TARGET LIST: [2, 3]\n",
      "\n",
      " FINAL TARGET LIST: [2, 3]\n",
      "\n",
      " FINAL TARGET LIST: [2, 3]\n",
      "\n",
      " FINAL TARGET LIST: [1]\n",
      "\n",
      " FINAL TARGET LIST: [3]\n",
      "\n",
      " FINAL TARGET LIST: [3]\n",
      "\n",
      " FINAL TARGET LIST: []\n",
      "\n",
      " FINAL TARGET LIST: [1, 2, 3]\n",
      "\n",
      " FINAL TARGET LIST: [1, 2, 3]\n",
      "\n",
      " FINAL TARGET LIST: [1, 2, 3]\n",
      "\n",
      " FINAL TARGET LIST: [1, 2, 3]\n"
     ]
    }
   ],
   "source": [
    "def move_ring(n,source,spare,target):\n",
    "   \n",
    "    if n!=0:\n",
    "        move_ring(n-1,source,target,spare)\n",
    "        target.append(source.pop())\n",
    "        move_ring(n-1,spare,source,target)\n",
    "    \n",
    "    print(\"\\n FINAL TARGET LIST:\",target)\n",
    "\n",
    "move_ring(3,[1,2,3],[],[])"
   ]
  },
  {
   "cell_type": "code",
   "execution_count": 4,
   "metadata": {},
   "outputs": [
    {
     "name": "stdout",
     "output_type": "stream",
     "text": [
      "3\n"
     ]
    }
   ],
   "source": [
    "l=[5,4,3]\n",
    "print(l.pop())"
   ]
  },
  {
   "cell_type": "code",
   "execution_count": 11,
   "metadata": {},
   "outputs": [
    {
     "name": "stdout",
     "output_type": "stream",
     "text": [
      "24\n"
     ]
    }
   ],
   "source": [
    "#recursive factorial\n",
    "def fact(n):\n",
    "    if n == 0 or n ==1:\n",
    "        return 1\n",
    "    else:\n",
    "        return n*fact(n-1)\n",
    "\n",
    "print(fact(4))"
   ]
  },
  {
   "cell_type": "code",
   "execution_count": 16,
   "metadata": {},
   "outputs": [
    {
     "name": "stdout",
     "output_type": "stream",
     "text": [
      "1\n",
      "1\n",
      "2  *  1\n",
      "2\n",
      "3  *  2\n",
      "6\n",
      "4  *  6\n",
      "24\n"
     ]
    }
   ],
   "source": [
    "#closure factorial\n",
    "def fact_c():\n",
    "    x1=1\n",
    "    def inner(i):\n",
    "        nonlocal x1\n",
    "        if i == 0 or i == 1:\n",
    "            return 1\n",
    "        else:\n",
    "            print(i,\" * \",x1)\n",
    "            x1 *= i\n",
    "            return x1\n",
    "    return inner\n",
    "f = fact_c()\n",
    "for i in range(5):\n",
    "    print(f(i))"
   ]
  },
  {
   "cell_type": "code",
   "execution_count": null,
   "metadata": {},
   "outputs": [],
   "source": []
  }
 ],
 "metadata": {
  "kernelspec": {
   "display_name": "Python 3",
   "language": "python",
   "name": "python3"
  },
  "language_info": {
   "codemirror_mode": {
    "name": "ipython",
    "version": 3
   },
   "file_extension": ".py",
   "mimetype": "text/x-python",
   "name": "python",
   "nbconvert_exporter": "python",
   "pygments_lexer": "ipython3",
   "version": "3.7.6"
  }
 },
 "nbformat": 4,
 "nbformat_minor": 4
}
