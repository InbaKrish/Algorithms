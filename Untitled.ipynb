{
 "cells": [
  {
   "cell_type": "code",
   "execution_count": 6,
   "metadata": {},
   "outputs": [],
   "source": [
    "def maxSubarray(arr,n,m):\n",
    "    prefix = 0\n",
    "    maxmod = 0\n",
    "    \n",
    "    s= {0}\n",
    "    \n",
    "    for i in range(n):\n",
    "        \n",
    "        prefix = (prefix+arr[i])%m\n",
    "        \n",
    "        maxmod = max(maxmod,prefix)\n",
    "        \n",
    "        it = 0\n",
    "        for i in s:\n",
    "            if i>=prefix+1:\n",
    "                it = i\n",
    "        if(it!=0):\n",
    "            maxmod = max(maxmod,prefix-it+m)\n",
    "        \n",
    "        s.add(prefix)\n",
    "    \n",
    "    return maxmod"
   ]
  },
  {
   "cell_type": "code",
   "execution_count": 7,
   "metadata": {},
   "outputs": [
    {
     "name": "stdout",
     "output_type": "stream",
     "text": [
      "6\n"
     ]
    }
   ],
   "source": [
    "arr = [3, 3, 9, 9, 5]\n",
    "n = 5\n",
    "m = 7\n",
    "print(maxSubarray(arr, n, m))"
   ]
  },
  {
   "cell_type": "code",
   "execution_count": 52,
   "metadata": {},
   "outputs": [
    {
     "name": "stdout",
     "output_type": "stream",
     "text": [
      "[['f', 'e', 'e', 'd'], ['t', 'h', 'e', 'd'], ['o', 'g', 'e']]\n",
      "ftoehgeeedd\n"
     ]
    }
   ],
   "source": [
    "import math\n",
    "s='feedthedoge'\n",
    "r = [[] for _ in range(math.floor(math.sqrt(len(s))))]\n",
    "j=0\n",
    "for i in range(math.floor(math.sqrt(len(s)))):\n",
    "    for j in range(math.ceil(math.sqrt(len(s)))):\n",
    "        try:\n",
    "            if s[j+(i*4)]:\n",
    "                r[i].append(s[j+(i*4)])\n",
    "        except:\n",
    "            pass\n",
    "print(r)\n",
    "\n",
    "t = []\n",
    "for i in range(len(r[0])):\n",
    "    res = []\n",
    "    for j in r:\n",
    "        try:\n",
    "            res.append(j[i])\n",
    "        except:\n",
    "            break\n",
    "    if len(t)<=len(r):\n",
    "        t.append(res)\n",
    "print(''.join(j for i in t for j in i if j!=' '))"
   ]
  },
  {
   "cell_type": "code",
   "execution_count": 53,
   "metadata": {},
   "outputs": [],
   "source": [
    "import math\n",
    "from collections import defaultdict"
   ]
  },
  {
   "cell_type": "code",
   "execution_count": 54,
   "metadata": {},
   "outputs": [
    {
     "name": "stdout",
     "output_type": "stream",
     "text": [
      "['fto', 'ehg', 'eee', 'dd']\n"
     ]
    }
   ],
   "source": [
    "s = s.replace(\" \",\"\")\n",
    "d = defaultdict(str)\n",
    "c = math.ceil(math.sqrt(len(s)))\n",
    "#f = math.floor(math.sqrt(len(s)))\n",
    "for i in range(0,len(s),c):\n",
    "    sub = s[i:i+c]\n",
    "    #print(sub)\n",
    "    for j in range(len(sub)):\n",
    "        d[j]+=sub[j]\n",
    "print(list(d.values()))"
   ]
  },
  {
   "cell_type": "code",
   "execution_count": 55,
   "metadata": {},
   "outputs": [
    {
     "name": "stdout",
     "output_type": "stream",
     "text": [
      "0\n",
      "3\n",
      "6\n",
      "9\n"
     ]
    }
   ],
   "source": [
    "for i in range(0,11,3):\n",
    "    print(i)"
   ]
  },
  {
   "cell_type": "code",
   "execution_count": 56,
   "metadata": {},
   "outputs": [
    {
     "name": "stdout",
     "output_type": "stream",
     "text": [
      "k\n"
     ]
    }
   ],
   "source": [
    "u = 'dkhc'\n",
    "print(max(u))"
   ]
  },
  {
   "cell_type": "code",
   "execution_count": 60,
   "metadata": {},
   "outputs": [
    {
     "data": {
      "text/plain": [
       "True"
      ]
     },
     "execution_count": 60,
     "metadata": {},
     "output_type": "execute_result"
    }
   ],
   "source": [
    "'n'<'o'"
   ]
  },
  {
   "cell_type": "code",
   "execution_count": null,
   "metadata": {},
   "outputs": [],
   "source": []
  }
 ],
 "metadata": {
  "kernelspec": {
   "display_name": "Python 3",
   "language": "python",
   "name": "python3"
  },
  "language_info": {
   "codemirror_mode": {
    "name": "ipython",
    "version": 3
   },
   "file_extension": ".py",
   "mimetype": "text/x-python",
   "name": "python",
   "nbconvert_exporter": "python",
   "pygments_lexer": "ipython3",
   "version": "3.7.6"
  }
 },
 "nbformat": 4,
 "nbformat_minor": 4
}
