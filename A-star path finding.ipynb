{
 "cells": [
  {
   "cell_type": "code",
   "execution_count": 1,
   "metadata": {},
   "outputs": [
    {
     "name": "stdout",
     "output_type": "stream",
     "text": [
      "importing Jupyter notebook from Priority Queue.ipynb\n"
     ]
    }
   ],
   "source": [
    "import import_ipynb\n",
    "from Priority_Queue import PriorityQueue"
   ]
  },
  {
   "cell_type": "code",
   "execution_count": 2,
   "metadata": {},
   "outputs": [],
   "source": [
    "def HeuristicDistance(a,b):\n",
    "    x1,y1 = a\n",
    "    x2,y2 = b\n",
    "    return abs(x1-x2)+abs(y1-y2)"
   ]
  },
  {
   "cell_type": "code",
   "execution_count": 3,
   "metadata": {},
   "outputs": [],
   "source": [
    "directions = {\"up\":(-1,0),\"right\":(0,1),\"down\":(1,0),\"left\":(0,-1)}\n",
    "\n",
    "def read_maze(path):\n",
    "    try:\n",
    "        with open(path) as maze_file:\n",
    "            maze = []\n",
    "            for line in maze_file:\n",
    "                maze.append([char for char in line.strip(\"\\n\")])\n",
    "            for row in maze:\n",
    "                if len(row)!= len(maze[0]):\n",
    "                    print('The maize is non rectangular...')\n",
    "                    raise SystemExit\n",
    "            return maze\n",
    "    except IOError:\n",
    "        return f\"Error reading {path} file\"\n",
    "\n",
    "def check_pos(maze,pos):\n",
    "    i,j = pos\n",
    "    return 0<=i<len(maze) and 0<=j<len(maze[0]) and maze[i][j] != '*'\n",
    "\n",
    "def get_path(predecessor,start,goal):\n",
    "    current = goal\n",
    "    path = []\n",
    "    while current != start:\n",
    "        path.append(current)\n",
    "        current = predecessor[current]\n",
    "    path.append(start)\n",
    "    path.reverse()\n",
    "    return path"
   ]
  },
  {
   "cell_type": "code",
   "execution_count": 7,
   "metadata": {},
   "outputs": [],
   "source": [
    "def A_star(maze,start,goal):\n",
    "    pq = PriorityQueue()\n",
    "    pq.put(0,start)\n",
    "    predecessor = {start:None}\n",
    "    g_values = {start:0}\n",
    "    \n",
    "    while pq:\n",
    "        current = pq.get()\n",
    "        if current == goal:\n",
    "            return get_path(predecessor,start,goal)\n",
    "        else:\n",
    "            for i in directions:\n",
    "                row_offset , col_offset = directions[i]\n",
    "                neighbour = (current[0]+row_offset,current[1]+col_offset)\n",
    "                if check_pos(maze,neighbour) and neighbour not in g_values:\n",
    "                    g_values[neighbour] = g_values[current]+1\n",
    "                    f_value = g_values[neighbour]+HeuristicDistance(neighbour,goal)\n",
    "                    pq.put(f_value,neighbour)\n",
    "                    predecessor[neighbour] = current\n",
    "    return None"
   ]
  },
  {
   "cell_type": "code",
   "execution_count": 8,
   "metadata": {},
   "outputs": [
    {
     "name": "stdout",
     "output_type": "stream",
     "text": [
      "[(0, 0), (0, 1), (0, 2), (1, 2), (2, 2)]\n"
     ]
    }
   ],
   "source": [
    "if __name__ == \"__main__\":\n",
    "    # Test 1\n",
    "    maze = [[0] * 3 for row in range(3)]\n",
    "    start_pos = (0, 0)\n",
    "    goal_pos = (2, 2)\n",
    "    result = A_star(maze, start_pos, goal_pos)\n",
    "    assert result == [(0, 0), (0, 1), (0, 2), (1, 2), (2, 2)]\n",
    "    print(result)"
   ]
  },
  {
   "cell_type": "code",
   "execution_count": null,
   "metadata": {},
   "outputs": [],
   "source": []
  }
 ],
 "metadata": {
  "kernelspec": {
   "display_name": "Python 3",
   "language": "python",
   "name": "python3"
  },
  "language_info": {
   "codemirror_mode": {
    "name": "ipython",
    "version": 3
   },
   "file_extension": ".py",
   "mimetype": "text/x-python",
   "name": "python",
   "nbconvert_exporter": "python",
   "pygments_lexer": "ipython3",
   "version": "3.7.6"
  }
 },
 "nbformat": 4,
 "nbformat_minor": 4
}
